{
 "cells": [
  {
   "cell_type": "markdown",
   "id": "c4f8a67e",
   "metadata": {},
   "source": [
    "O objetivo desse notebook é a construção de um modelo capaz de predizer o valor do IBU (*International Bitterness Units*), que mensura o armagor, para um conjunto de cervejas.\n",
    "\n",
    "Os dados utilizados no treinamento foram coletados da [PUNK API](https://punkapi.com/documentation/v2) e posteriormente tratados e armazenados em buckets S3 na AWS.\n",
    "\n",
    "Para utilizá-los nesse notebook, será feito uma query SQL via Athena na tabela Glue criada na AWS, que retornará os dados coletados em um certo período de tempo da API."
   ]
  },
  {
   "cell_type": "markdown",
   "id": "76f2c3b3",
   "metadata": {},
   "source": [
    "# Bibliotecas"
   ]
  },
  {
   "cell_type": "code",
   "execution_count": 95,
   "id": "78d33911",
   "metadata": {},
   "outputs": [],
   "source": [
    "import os\n",
    "import dotenv\n",
    "import pickle\n",
    "import time\n",
    "\n",
    "import boto3\n",
    "from sklearn.linear_model import LinearRegression\n",
    "from sklearn.metrics import r2_score\n",
    "from sklearn.model_selection import train_test_split\n",
    "from sklearn.preprocessing import MinMaxScaler\n",
    "import pandas as pd\n",
    "import requests\n",
    "from xgboost import XGBRegressor"
   ]
  },
  {
   "cell_type": "markdown",
   "id": "4882a3b8",
   "metadata": {},
   "source": [
    "# Leitura dos dados"
   ]
  },
  {
   "cell_type": "code",
   "execution_count": 10,
   "id": "1ecf9a8a",
   "metadata": {},
   "outputs": [],
   "source": [
    "from pyathena import connect\n",
    "dotenv.load_dotenv(\".env\")\n",
    "\n",
    "\n",
    "S3_OUTPUT = \"s3://punkapi-data-from-glue\"\n",
    "AWS_ACCESS_KEY_ID = os.environ[\"AWS_ACCESS_KEY_ID\"]\n",
    "AWS_SECRET_ACCESS_KEY = os.environ[\"AWS_SECRET_ACCESS_KEY\"]\n",
    "REGION_NAME = os.environ[\"REGION_NAME\"]\n",
    "\n",
    "\n",
    "conn = connect(aws_access_key_id=AWS_ACCESS_KEY_ID,\n",
    "                 aws_secret_access_key=AWS_SECRET_ACCESS_KEY,\n",
    "                 s3_staging_dir=S3_OUTPUT,\n",
    "                 region_name=REGION_NAME)\n",
    "\n",
    "query_string = (\n",
    "    \"SELECT abv, ebc, ibu, id, name, ph, srm, target_fg, target_og \"\n",
    "    \"FROM punk_api_database.cleaned_data_from_punkapi\"\n",
    ")\n",
    "df = pd.read_sql(query_string, conn)"
   ]
  },
  {
   "cell_type": "code",
   "execution_count": 16,
   "id": "d4d61e2e",
   "metadata": {},
   "outputs": [
    {
     "data": {
      "text/html": [
       "<div>\n",
       "<style scoped>\n",
       "    .dataframe tbody tr th:only-of-type {\n",
       "        vertical-align: middle;\n",
       "    }\n",
       "\n",
       "    .dataframe tbody tr th {\n",
       "        vertical-align: top;\n",
       "    }\n",
       "\n",
       "    .dataframe thead th {\n",
       "        text-align: right;\n",
       "    }\n",
       "</style>\n",
       "<table border=\"1\" class=\"dataframe\">\n",
       "  <thead>\n",
       "    <tr style=\"text-align: right;\">\n",
       "      <th></th>\n",
       "      <th>abv</th>\n",
       "      <th>ebc</th>\n",
       "      <th>ibu</th>\n",
       "      <th>id</th>\n",
       "      <th>name</th>\n",
       "      <th>ph</th>\n",
       "      <th>srm</th>\n",
       "      <th>target_fg</th>\n",
       "      <th>target_og</th>\n",
       "    </tr>\n",
       "  </thead>\n",
       "  <tbody>\n",
       "    <tr>\n",
       "      <th>0</th>\n",
       "      <td>5.5</td>\n",
       "      <td>25.0</td>\n",
       "      <td>35</td>\n",
       "      <td>195</td>\n",
       "      <td>Hello My Name Is Holy Moose</td>\n",
       "      <td>4.4</td>\n",
       "      <td>12.50</td>\n",
       "      <td>1011</td>\n",
       "      <td>1053.0</td>\n",
       "    </tr>\n",
       "    <tr>\n",
       "      <th>1</th>\n",
       "      <td>7.5</td>\n",
       "      <td>9.0</td>\n",
       "      <td>35</td>\n",
       "      <td>280</td>\n",
       "      <td>Make Earth Great Again</td>\n",
       "      <td>4.6</td>\n",
       "      <td>5.00</td>\n",
       "      <td>1004</td>\n",
       "      <td>1065.0</td>\n",
       "    </tr>\n",
       "    <tr>\n",
       "      <th>2</th>\n",
       "      <td>8.0</td>\n",
       "      <td>240.0</td>\n",
       "      <td>45</td>\n",
       "      <td>101</td>\n",
       "      <td>Riptide</td>\n",
       "      <td>4.4</td>\n",
       "      <td>120.00</td>\n",
       "      <td>1014</td>\n",
       "      <td>1075.0</td>\n",
       "    </tr>\n",
       "    <tr>\n",
       "      <th>3</th>\n",
       "      <td>7.2</td>\n",
       "      <td>20.0</td>\n",
       "      <td>20</td>\n",
       "      <td>294</td>\n",
       "      <td>Opaque Jake</td>\n",
       "      <td>4.4</td>\n",
       "      <td>10.00</td>\n",
       "      <td>1009</td>\n",
       "      <td>1065.0</td>\n",
       "    </tr>\n",
       "    <tr>\n",
       "      <th>4</th>\n",
       "      <td>4.5</td>\n",
       "      <td>40.0</td>\n",
       "      <td>35</td>\n",
       "      <td>53</td>\n",
       "      <td>Baby Dogma</td>\n",
       "      <td>4.4</td>\n",
       "      <td>20.00</td>\n",
       "      <td>1013</td>\n",
       "      <td>1048.0</td>\n",
       "    </tr>\n",
       "    <tr>\n",
       "      <th>...</th>\n",
       "      <td>...</td>\n",
       "      <td>...</td>\n",
       "      <td>...</td>\n",
       "      <td>...</td>\n",
       "      <td>...</td>\n",
       "      <td>...</td>\n",
       "      <td>...</td>\n",
       "      <td>...</td>\n",
       "      <td>...</td>\n",
       "    </tr>\n",
       "    <tr>\n",
       "      <th>193</th>\n",
       "      <td>11.3</td>\n",
       "      <td>164.0</td>\n",
       "      <td>50</td>\n",
       "      <td>150</td>\n",
       "      <td>AB:13</td>\n",
       "      <td>4.4</td>\n",
       "      <td>83.00</td>\n",
       "      <td>1020</td>\n",
       "      <td>1098.0</td>\n",
       "    </tr>\n",
       "    <tr>\n",
       "      <th>194</th>\n",
       "      <td>7.1</td>\n",
       "      <td>15.0</td>\n",
       "      <td>90</td>\n",
       "      <td>124</td>\n",
       "      <td>Chaos Theory</td>\n",
       "      <td>4.4</td>\n",
       "      <td>7.50</td>\n",
       "      <td>1013</td>\n",
       "      <td>1067.0</td>\n",
       "    </tr>\n",
       "    <tr>\n",
       "      <th>195</th>\n",
       "      <td>7.0</td>\n",
       "      <td>170.0</td>\n",
       "      <td>25</td>\n",
       "      <td>259</td>\n",
       "      <td>Tropic Thunder</td>\n",
       "      <td>4.2</td>\n",
       "      <td>86.36</td>\n",
       "      <td>1020</td>\n",
       "      <td>1074.0</td>\n",
       "    </tr>\n",
       "    <tr>\n",
       "      <th>196</th>\n",
       "      <td>5.2</td>\n",
       "      <td>13.0</td>\n",
       "      <td>40</td>\n",
       "      <td>212</td>\n",
       "      <td>Hop Fiction - Prototype Challenge</td>\n",
       "      <td>4.4</td>\n",
       "      <td>6.50</td>\n",
       "      <td>1010</td>\n",
       "      <td>1048.0</td>\n",
       "    </tr>\n",
       "    <tr>\n",
       "      <th>197</th>\n",
       "      <td>5.0</td>\n",
       "      <td>19.0</td>\n",
       "      <td>80</td>\n",
       "      <td>248</td>\n",
       "      <td>Twin Atlantic</td>\n",
       "      <td>5.2</td>\n",
       "      <td>9.70</td>\n",
       "      <td>1011</td>\n",
       "      <td>1048.0</td>\n",
       "    </tr>\n",
       "  </tbody>\n",
       "</table>\n",
       "<p>198 rows × 9 columns</p>\n",
       "</div>"
      ],
      "text/plain": [
       "      abv    ebc  ibu   id                               name   ph     srm  \\\n",
       "0     5.5   25.0   35  195        Hello My Name Is Holy Moose  4.4   12.50   \n",
       "1     7.5    9.0   35  280             Make Earth Great Again  4.6    5.00   \n",
       "2     8.0  240.0   45  101                            Riptide  4.4  120.00   \n",
       "3     7.2   20.0   20  294                        Opaque Jake  4.4   10.00   \n",
       "4     4.5   40.0   35   53                         Baby Dogma  4.4   20.00   \n",
       "..    ...    ...  ...  ...                                ...  ...     ...   \n",
       "193  11.3  164.0   50  150                              AB:13  4.4   83.00   \n",
       "194   7.1   15.0   90  124                       Chaos Theory  4.4    7.50   \n",
       "195   7.0  170.0   25  259                     Tropic Thunder  4.2   86.36   \n",
       "196   5.2   13.0   40  212  Hop Fiction - Prototype Challenge  4.4    6.50   \n",
       "197   5.0   19.0   80  248                      Twin Atlantic  5.2    9.70   \n",
       "\n",
       "    target_fg target_og  \n",
       "0        1011    1053.0  \n",
       "1        1004    1065.0  \n",
       "2        1014    1075.0  \n",
       "3        1009    1065.0  \n",
       "4        1013    1048.0  \n",
       "..        ...       ...  \n",
       "193      1020    1098.0  \n",
       "194      1013    1067.0  \n",
       "195      1020    1074.0  \n",
       "196      1010    1048.0  \n",
       "197      1011    1048.0  \n",
       "\n",
       "[198 rows x 9 columns]"
      ]
     },
     "execution_count": 16,
     "metadata": {},
     "output_type": "execute_result"
    }
   ],
   "source": [
    "df"
   ]
  },
  {
   "cell_type": "markdown",
   "id": "f0107420",
   "metadata": {},
   "source": [
    "# Pré-processamento do dado\n",
    "\n",
    "Informações sobre o dado:\n",
    "\n",
    "* ABV (Alcohol By Volume) - Quantidade de álcool presente na cerveja.\n",
    "* EBC (European Brewery Convention) - Medida técnica europeia para a cor da cerveja.\n",
    "* IBU (International Bitterness Units) - Índice que mede o amargor da cerveja.\n",
    "* pH - Escala para determinar acidez/alcalinidade de uma solução.\n",
    "* SRM (Standard Reference Method) - Sistema para medição de cor da cerveja usualmente aplicado nos Estados Unidos.\n",
    "* Target FG (Final Gravity) - A gravidade final (FG) é a quantidade de açúcar que sobra quando a fermentação termina.\n",
    "* Target OG (Original Gravity) - A gravidade original (OG) mede quanto açúcar está presente no mosto antes de ser fermentado. "
   ]
  },
  {
   "cell_type": "markdown",
   "id": "ac151d22",
   "metadata": {},
   "source": [
    "## Remoção de colunas\n",
    "\n",
    "Duas colunas serão removidas do dado coletado: \"id\" e \"name\". A primeira, por se tratar apenas do identificador único de cada cerveja, não representa uma característica útil para determinar os IBU's. A segunda, apesar de poder ser transformada para um conjunto de valores numéricos via vetorização, será removida para simplificar o processo de treinamento."
   ]
  },
  {
   "cell_type": "code",
   "execution_count": 18,
   "id": "55242d60",
   "metadata": {},
   "outputs": [],
   "source": [
    "INTEREST_COLUMNS = [\"abv\", \"ebc\", \"ibu\", \"ph\", \"srm\", \"target_fg\", \"target_og\"]\n",
    "df_cleaned = df[INTEREST_COLUMNS]"
   ]
  },
  {
   "cell_type": "code",
   "execution_count": 19,
   "id": "ed334af4",
   "metadata": {},
   "outputs": [
    {
     "data": {
      "text/html": [
       "<div>\n",
       "<style scoped>\n",
       "    .dataframe tbody tr th:only-of-type {\n",
       "        vertical-align: middle;\n",
       "    }\n",
       "\n",
       "    .dataframe tbody tr th {\n",
       "        vertical-align: top;\n",
       "    }\n",
       "\n",
       "    .dataframe thead th {\n",
       "        text-align: right;\n",
       "    }\n",
       "</style>\n",
       "<table border=\"1\" class=\"dataframe\">\n",
       "  <thead>\n",
       "    <tr style=\"text-align: right;\">\n",
       "      <th></th>\n",
       "      <th>abv</th>\n",
       "      <th>ebc</th>\n",
       "      <th>ibu</th>\n",
       "      <th>ph</th>\n",
       "      <th>srm</th>\n",
       "      <th>target_fg</th>\n",
       "      <th>target_og</th>\n",
       "    </tr>\n",
       "  </thead>\n",
       "  <tbody>\n",
       "    <tr>\n",
       "      <th>0</th>\n",
       "      <td>5.5</td>\n",
       "      <td>25.0</td>\n",
       "      <td>35</td>\n",
       "      <td>4.4</td>\n",
       "      <td>12.50</td>\n",
       "      <td>1011</td>\n",
       "      <td>1053.0</td>\n",
       "    </tr>\n",
       "    <tr>\n",
       "      <th>1</th>\n",
       "      <td>7.5</td>\n",
       "      <td>9.0</td>\n",
       "      <td>35</td>\n",
       "      <td>4.6</td>\n",
       "      <td>5.00</td>\n",
       "      <td>1004</td>\n",
       "      <td>1065.0</td>\n",
       "    </tr>\n",
       "    <tr>\n",
       "      <th>2</th>\n",
       "      <td>8.0</td>\n",
       "      <td>240.0</td>\n",
       "      <td>45</td>\n",
       "      <td>4.4</td>\n",
       "      <td>120.00</td>\n",
       "      <td>1014</td>\n",
       "      <td>1075.0</td>\n",
       "    </tr>\n",
       "    <tr>\n",
       "      <th>3</th>\n",
       "      <td>7.2</td>\n",
       "      <td>20.0</td>\n",
       "      <td>20</td>\n",
       "      <td>4.4</td>\n",
       "      <td>10.00</td>\n",
       "      <td>1009</td>\n",
       "      <td>1065.0</td>\n",
       "    </tr>\n",
       "    <tr>\n",
       "      <th>4</th>\n",
       "      <td>4.5</td>\n",
       "      <td>40.0</td>\n",
       "      <td>35</td>\n",
       "      <td>4.4</td>\n",
       "      <td>20.00</td>\n",
       "      <td>1013</td>\n",
       "      <td>1048.0</td>\n",
       "    </tr>\n",
       "    <tr>\n",
       "      <th>...</th>\n",
       "      <td>...</td>\n",
       "      <td>...</td>\n",
       "      <td>...</td>\n",
       "      <td>...</td>\n",
       "      <td>...</td>\n",
       "      <td>...</td>\n",
       "      <td>...</td>\n",
       "    </tr>\n",
       "    <tr>\n",
       "      <th>193</th>\n",
       "      <td>11.3</td>\n",
       "      <td>164.0</td>\n",
       "      <td>50</td>\n",
       "      <td>4.4</td>\n",
       "      <td>83.00</td>\n",
       "      <td>1020</td>\n",
       "      <td>1098.0</td>\n",
       "    </tr>\n",
       "    <tr>\n",
       "      <th>194</th>\n",
       "      <td>7.1</td>\n",
       "      <td>15.0</td>\n",
       "      <td>90</td>\n",
       "      <td>4.4</td>\n",
       "      <td>7.50</td>\n",
       "      <td>1013</td>\n",
       "      <td>1067.0</td>\n",
       "    </tr>\n",
       "    <tr>\n",
       "      <th>195</th>\n",
       "      <td>7.0</td>\n",
       "      <td>170.0</td>\n",
       "      <td>25</td>\n",
       "      <td>4.2</td>\n",
       "      <td>86.36</td>\n",
       "      <td>1020</td>\n",
       "      <td>1074.0</td>\n",
       "    </tr>\n",
       "    <tr>\n",
       "      <th>196</th>\n",
       "      <td>5.2</td>\n",
       "      <td>13.0</td>\n",
       "      <td>40</td>\n",
       "      <td>4.4</td>\n",
       "      <td>6.50</td>\n",
       "      <td>1010</td>\n",
       "      <td>1048.0</td>\n",
       "    </tr>\n",
       "    <tr>\n",
       "      <th>197</th>\n",
       "      <td>5.0</td>\n",
       "      <td>19.0</td>\n",
       "      <td>80</td>\n",
       "      <td>5.2</td>\n",
       "      <td>9.70</td>\n",
       "      <td>1011</td>\n",
       "      <td>1048.0</td>\n",
       "    </tr>\n",
       "  </tbody>\n",
       "</table>\n",
       "<p>198 rows × 7 columns</p>\n",
       "</div>"
      ],
      "text/plain": [
       "      abv    ebc  ibu   ph     srm target_fg target_og\n",
       "0     5.5   25.0   35  4.4   12.50      1011    1053.0\n",
       "1     7.5    9.0   35  4.6    5.00      1004    1065.0\n",
       "2     8.0  240.0   45  4.4  120.00      1014    1075.0\n",
       "3     7.2   20.0   20  4.4   10.00      1009    1065.0\n",
       "4     4.5   40.0   35  4.4   20.00      1013    1048.0\n",
       "..    ...    ...  ...  ...     ...       ...       ...\n",
       "193  11.3  164.0   50  4.4   83.00      1020    1098.0\n",
       "194   7.1   15.0   90  4.4    7.50      1013    1067.0\n",
       "195   7.0  170.0   25  4.2   86.36      1020    1074.0\n",
       "196   5.2   13.0   40  4.4    6.50      1010    1048.0\n",
       "197   5.0   19.0   80  5.2    9.70      1011    1048.0\n",
       "\n",
       "[198 rows x 7 columns]"
      ]
     },
     "execution_count": 19,
     "metadata": {},
     "output_type": "execute_result"
    }
   ],
   "source": [
    "df_cleaned"
   ]
  },
  {
   "cell_type": "markdown",
   "id": "e3486231",
   "metadata": {},
   "source": [
    "## Ajuste dos tipos dos valores\n",
    "\n",
    "Para evitar exceções durante o treinamento do modelo, é importante que todas colunas contenham apenas valores numéricos. Como pode se ver abaixo, esse não é o caso para algumas colunas:"
   ]
  },
  {
   "cell_type": "code",
   "execution_count": 20,
   "id": "80a9387f",
   "metadata": {},
   "outputs": [
    {
     "data": {
      "text/plain": [
       "abv          float64\n",
       "ebc          float64\n",
       "ibu            int64\n",
       "ph           float64\n",
       "srm          float64\n",
       "target_fg     object\n",
       "target_og     object\n",
       "dtype: object"
      ]
     },
     "execution_count": 20,
     "metadata": {},
     "output_type": "execute_result"
    }
   ],
   "source": [
    "df_cleaned.dtypes"
   ]
  },
  {
   "cell_type": "code",
   "execution_count": 21,
   "id": "790cee35",
   "metadata": {},
   "outputs": [],
   "source": [
    "df_cleaned = df_cleaned.apply(pd.to_numeric)"
   ]
  },
  {
   "cell_type": "code",
   "execution_count": 22,
   "id": "de2201e1",
   "metadata": {},
   "outputs": [
    {
     "data": {
      "text/plain": [
       "abv          float64\n",
       "ebc          float64\n",
       "ibu            int64\n",
       "ph           float64\n",
       "srm          float64\n",
       "target_fg    float64\n",
       "target_og    float64\n",
       "dtype: object"
      ]
     },
     "execution_count": 22,
     "metadata": {},
     "output_type": "execute_result"
    }
   ],
   "source": [
    "df_cleaned.dtypes"
   ]
  },
  {
   "cell_type": "markdown",
   "id": "545bcec0",
   "metadata": {},
   "source": [
    "## Remover linhas com NaN's\n",
    "\n",
    "Também é necessário remover ou substituir linhas que possuem NaN's, pois são valores faltantes e podem impactar o treinamento dos modelos. Vamos checar quantos casos desses o dataset possui:"
   ]
  },
  {
   "cell_type": "code",
   "execution_count": 31,
   "id": "d1399594",
   "metadata": {},
   "outputs": [
    {
     "data": {
      "text/html": [
       "<div>\n",
       "<style scoped>\n",
       "    .dataframe tbody tr th:only-of-type {\n",
       "        vertical-align: middle;\n",
       "    }\n",
       "\n",
       "    .dataframe tbody tr th {\n",
       "        vertical-align: top;\n",
       "    }\n",
       "\n",
       "    .dataframe thead th {\n",
       "        text-align: right;\n",
       "    }\n",
       "</style>\n",
       "<table border=\"1\" class=\"dataframe\">\n",
       "  <thead>\n",
       "    <tr style=\"text-align: right;\">\n",
       "      <th></th>\n",
       "      <th>abv</th>\n",
       "      <th>ebc</th>\n",
       "      <th>ibu</th>\n",
       "      <th>ph</th>\n",
       "      <th>srm</th>\n",
       "      <th>target_fg</th>\n",
       "      <th>target_og</th>\n",
       "    </tr>\n",
       "  </thead>\n",
       "  <tbody>\n",
       "  </tbody>\n",
       "</table>\n",
       "</div>"
      ],
      "text/plain": [
       "Empty DataFrame\n",
       "Columns: [abv, ebc, ibu, ph, srm, target_fg, target_og]\n",
       "Index: []"
      ]
     },
     "execution_count": 31,
     "metadata": {},
     "output_type": "execute_result"
    }
   ],
   "source": [
    "df_cleaned[df_cleaned.isna().any(axis=1)]"
   ]
  },
  {
   "cell_type": "markdown",
   "id": "27de8d13",
   "metadata": {},
   "source": [
    "Como é uma quantidade mínima de casos em relação ao conjunto total, vamos apenas remover essas linhas:"
   ]
  },
  {
   "cell_type": "code",
   "execution_count": 28,
   "id": "3d8a4efa",
   "metadata": {},
   "outputs": [],
   "source": [
    "df_cleaned.dropna(inplace=True)"
   ]
  },
  {
   "cell_type": "markdown",
   "id": "d1ec8c44",
   "metadata": {},
   "source": [
    "## Feature scaling\n",
    "\n",
    "Para auxiliar o treinamento e melhorar a performance do modelo, é importante que a escala dos valores presentes no dado de treinamento esteja contida dentro de determinada faixa. Dessa forma, será usado uma normalização min-max que manterá os valores entre 0 e 1. Ela será incluída em uma pipeline do scikit-learn, juntamente com o modelo em si. Abaixo, uma amostra do que acontece ao aplicar a estratégia no dado coletado:"
   ]
  },
  {
   "cell_type": "code",
   "execution_count": 58,
   "id": "cd1b46a0",
   "metadata": {},
   "outputs": [],
   "source": [
    "scaler = MinMaxScaler()\n",
    "scaled_data = df_cleaned.copy()\n",
    "scaled_data[INTEREST_COLUMNS] = scaler.fit_transform(df_cleaned)"
   ]
  },
  {
   "cell_type": "code",
   "execution_count": 151,
   "id": "5d28b879",
   "metadata": {},
   "outputs": [
    {
     "data": {
      "text/html": [
       "<div>\n",
       "<style scoped>\n",
       "    .dataframe tbody tr th:only-of-type {\n",
       "        vertical-align: middle;\n",
       "    }\n",
       "\n",
       "    .dataframe tbody tr th {\n",
       "        vertical-align: top;\n",
       "    }\n",
       "\n",
       "    .dataframe thead th {\n",
       "        text-align: right;\n",
       "    }\n",
       "</style>\n",
       "<table border=\"1\" class=\"dataframe\">\n",
       "  <thead>\n",
       "    <tr style=\"text-align: right;\">\n",
       "      <th></th>\n",
       "      <th>abv</th>\n",
       "      <th>ebc</th>\n",
       "      <th>ibu</th>\n",
       "      <th>ph</th>\n",
       "      <th>srm</th>\n",
       "      <th>target_fg</th>\n",
       "      <th>target_og</th>\n",
       "    </tr>\n",
       "  </thead>\n",
       "  <tbody>\n",
       "    <tr>\n",
       "      <th>0</th>\n",
       "      <td>0.138272</td>\n",
       "      <td>0.365000</td>\n",
       "      <td>0.041475</td>\n",
       "      <td>0.055696</td>\n",
       "      <td>0.359016</td>\n",
       "      <td>0.906667</td>\n",
       "      <td>0.927826</td>\n",
       "    </tr>\n",
       "    <tr>\n",
       "      <th>1</th>\n",
       "      <td>0.066667</td>\n",
       "      <td>0.011667</td>\n",
       "      <td>0.007373</td>\n",
       "      <td>0.040506</td>\n",
       "      <td>0.045902</td>\n",
       "      <td>0.895111</td>\n",
       "      <td>0.904348</td>\n",
       "    </tr>\n",
       "    <tr>\n",
       "      <th>2</th>\n",
       "      <td>0.158025</td>\n",
       "      <td>0.025000</td>\n",
       "      <td>0.032258</td>\n",
       "      <td>0.053165</td>\n",
       "      <td>0.024984</td>\n",
       "      <td>0.899556</td>\n",
       "      <td>0.926957</td>\n",
       "    </tr>\n",
       "    <tr>\n",
       "      <th>3</th>\n",
       "      <td>0.227160</td>\n",
       "      <td>0.050000</td>\n",
       "      <td>0.092166</td>\n",
       "      <td>0.055696</td>\n",
       "      <td>0.050164</td>\n",
       "      <td>0.902222</td>\n",
       "      <td>0.946087</td>\n",
       "    </tr>\n",
       "    <tr>\n",
       "      <th>4</th>\n",
       "      <td>0.362963</td>\n",
       "      <td>0.263333</td>\n",
       "      <td>0.018433</td>\n",
       "      <td>0.055696</td>\n",
       "      <td>0.259016</td>\n",
       "      <td>0.906667</td>\n",
       "      <td>0.965217</td>\n",
       "    </tr>\n",
       "    <tr>\n",
       "      <th>...</th>\n",
       "      <td>...</td>\n",
       "      <td>...</td>\n",
       "      <td>...</td>\n",
       "      <td>...</td>\n",
       "      <td>...</td>\n",
       "      <td>...</td>\n",
       "      <td>...</td>\n",
       "    </tr>\n",
       "    <tr>\n",
       "      <th>184</th>\n",
       "      <td>0.303704</td>\n",
       "      <td>0.185000</td>\n",
       "      <td>0.046083</td>\n",
       "      <td>0.055696</td>\n",
       "      <td>0.181967</td>\n",
       "      <td>0.906667</td>\n",
       "      <td>0.953043</td>\n",
       "    </tr>\n",
       "    <tr>\n",
       "      <th>185</th>\n",
       "      <td>0.385185</td>\n",
       "      <td>0.666667</td>\n",
       "      <td>0.078341</td>\n",
       "      <td>0.054430</td>\n",
       "      <td>0.655738</td>\n",
       "      <td>0.902222</td>\n",
       "      <td>0.978261</td>\n",
       "    </tr>\n",
       "    <tr>\n",
       "      <th>186</th>\n",
       "      <td>0.116049</td>\n",
       "      <td>0.013333</td>\n",
       "      <td>0.020276</td>\n",
       "      <td>0.051899</td>\n",
       "      <td>0.013115</td>\n",
       "      <td>0.896000</td>\n",
       "      <td>0.909565</td>\n",
       "    </tr>\n",
       "    <tr>\n",
       "      <th>187</th>\n",
       "      <td>0.165432</td>\n",
       "      <td>0.250000</td>\n",
       "      <td>0.046083</td>\n",
       "      <td>0.055696</td>\n",
       "      <td>0.249180</td>\n",
       "      <td>0.900444</td>\n",
       "      <td>0.928696</td>\n",
       "    </tr>\n",
       "    <tr>\n",
       "      <th>189</th>\n",
       "      <td>0.246914</td>\n",
       "      <td>0.025000</td>\n",
       "      <td>0.092166</td>\n",
       "      <td>0.055696</td>\n",
       "      <td>0.026230</td>\n",
       "      <td>0.897778</td>\n",
       "      <td>0.947826</td>\n",
       "    </tr>\n",
       "  </tbody>\n",
       "</table>\n",
       "<p>186 rows × 7 columns</p>\n",
       "</div>"
      ],
      "text/plain": [
       "          abv       ebc       ibu        ph       srm  target_fg  target_og\n",
       "0    0.138272  0.365000  0.041475  0.055696  0.359016   0.906667   0.927826\n",
       "1    0.066667  0.011667  0.007373  0.040506  0.045902   0.895111   0.904348\n",
       "2    0.158025  0.025000  0.032258  0.053165  0.024984   0.899556   0.926957\n",
       "3    0.227160  0.050000  0.092166  0.055696  0.050164   0.902222   0.946087\n",
       "4    0.362963  0.263333  0.018433  0.055696  0.259016   0.906667   0.965217\n",
       "..        ...       ...       ...       ...       ...        ...        ...\n",
       "184  0.303704  0.185000  0.046083  0.055696  0.181967   0.906667   0.953043\n",
       "185  0.385185  0.666667  0.078341  0.054430  0.655738   0.902222   0.978261\n",
       "186  0.116049  0.013333  0.020276  0.051899  0.013115   0.896000   0.909565\n",
       "187  0.165432  0.250000  0.046083  0.055696  0.249180   0.900444   0.928696\n",
       "189  0.246914  0.025000  0.092166  0.055696  0.026230   0.897778   0.947826\n",
       "\n",
       "[186 rows x 7 columns]"
      ]
     },
     "execution_count": 151,
     "metadata": {},
     "output_type": "execute_result"
    }
   ],
   "source": [
    "scaled_data"
   ]
  },
  {
   "cell_type": "markdown",
   "id": "d33df7ae",
   "metadata": {},
   "source": [
    "# Treinamento do modelo\n",
    "\n",
    "Para realizar a tarefa de predizer dos valores de IBU, serão treinado um model de regressão linear."
   ]
  },
  {
   "cell_type": "code",
   "execution_count": 25,
   "id": "ae2079ea",
   "metadata": {},
   "outputs": [],
   "source": [
    "X_COLUMNS = [\"abv\", \"ebc\", \"ph\", \"srm\", \"target_fg\", \"target_og\"]\n",
    "Y_COLUMN = \"ibu\""
   ]
  },
  {
   "cell_type": "code",
   "execution_count": 62,
   "id": "bc0c1efd",
   "metadata": {},
   "outputs": [],
   "source": [
    "X, y = df_cleaned[X_COLUMNS], df_cleaned[Y_COLUMN]\n",
    "X_train, X_test, y_train, y_test = train_test_split(X, y, random_state=42, test_size=0.1)"
   ]
  },
  {
   "cell_type": "code",
   "execution_count": 63,
   "id": "be2276b4",
   "metadata": {},
   "outputs": [],
   "source": [
    "from sklearn.pipeline import Pipeline\n",
    "\n",
    "pipe = Pipeline([('scaler', MinMaxScaler()), ('regressor', LinearRegression())])\n",
    "\n",
    "pipe.fit(X_train, y_train)\n",
    "\n",
    "y_pred = pipe.predict(X_test)"
   ]
  },
  {
   "cell_type": "code",
   "execution_count": 64,
   "id": "1f91864a",
   "metadata": {},
   "outputs": [
    {
     "name": "stdout",
     "output_type": "stream",
     "text": [
      "R2 (Reg. Linear): -2.2955162682703225\n"
     ]
    }
   ],
   "source": [
    "print(f\"R2 (Reg. Linear): {r2_score(y_test, y_pred)}\")"
   ]
  },
  {
   "cell_type": "code",
   "execution_count": 75,
   "id": "6aa3454b",
   "metadata": {},
   "outputs": [
    {
     "data": {
      "text/plain": [
       "[[5.3, 1012, 1052, 200, 100, 4.2], [9.2, 1016, 1085, 40, 20, 4.4]]"
      ]
     },
     "execution_count": 75,
     "metadata": {},
     "output_type": "execute_result"
    }
   ],
   "source": [
    "[[sample[var] for var in sample if var in X_COLUMNS] for sample in b]"
   ]
  },
  {
   "cell_type": "code",
   "execution_count": 74,
   "id": "e912c47e",
   "metadata": {},
   "outputs": [
    {
     "data": {
      "text/plain": [
       "array([25358.01687289, 26411.18194624])"
      ]
     },
     "execution_count": 74,
     "metadata": {},
     "output_type": "execute_result"
    }
   ],
   "source": [
    "pipe.predict([[sample[var] for var in sample if var in X_COLUMNS] for sample in b])"
   ]
  },
  {
   "cell_type": "markdown",
   "id": "8d978c79",
   "metadata": {},
   "source": [
    "# Armazenamento do modelo em um bucket S3\n",
    "\n",
    "É possível acessar e realizar predições de maneira remota utilizando a infraestrutura da AWS. Para isso, o modelo treinado será armazendo em um bucket S3 da AWS e consumido via uma função lambda, acessada via API Gateway.\n"
   ]
  },
  {
   "cell_type": "code",
   "execution_count": 68,
   "id": "600791e3",
   "metadata": {},
   "outputs": [],
   "source": [
    "BUCKET_NAME = \"beers-linear-regressor\"\n",
    "FILENAME = \"pipeline.pkl\"\n",
    "FILE_PATH = os.path.join(\"/tmp/\", FILENAME)"
   ]
  },
  {
   "cell_type": "code",
   "execution_count": 71,
   "id": "a30ab8a9",
   "metadata": {},
   "outputs": [],
   "source": [
    "session = boto3.Session(aws_access_key_id=AWS_ACCESS_KEY_ID,\n",
    "                        aws_secret_access_key=AWS_SECRET_ACCESS_KEY,\n",
    "                        region_name=REGION_NAME)\n",
    "\n",
    "s3_client = session.client(\"s3\")\n",
    "\n",
    "with open(FILE_PATH, \"wb\") as f:\n",
    "    pickle.dump(pipe, f)\n",
    "\n",
    "s3_client.upload_file(FILE_PATH, BUCKET_NAME, FILENAME)"
   ]
  },
  {
   "cell_type": "markdown",
   "id": "350acdb2",
   "metadata": {},
   "source": [
    "# Predições via lambda "
   ]
  },
  {
   "cell_type": "code",
   "execution_count": 103,
   "id": "09909c97",
   "metadata": {},
   "outputs": [],
   "source": [
    "some_beers = requests.get(f\"https://api.punkapi.com/v2/beers/?ids=42|77\")"
   ]
  },
  {
   "cell_type": "code",
   "execution_count": 104,
   "id": "471c4a70",
   "metadata": {},
   "outputs": [],
   "source": [
    "lambda_client = session.client('lambda')\n",
    "response = lambda_client.invoke(\n",
    "    FunctionName='predict_ibu',\n",
    "    LogType='None',\n",
    "    Payload=json.dumps({\"data\": some_beers.json()})\n",
    ")"
   ]
  },
  {
   "cell_type": "code",
   "execution_count": 98,
   "id": "47f19b43",
   "metadata": {},
   "outputs": [
    {
     "data": {
      "text/plain": [
       "{'ResponseMetadata': {'RequestId': '61a6e06c-02fc-485e-9da1-65cd57d4e330',\n",
       "  'HTTPStatusCode': 200,\n",
       "  'HTTPHeaders': {'date': 'Thu, 21 Oct 2021 06:54:02 GMT',\n",
       "   'content-type': 'application/json',\n",
       "   'content-length': '98',\n",
       "   'connection': 'keep-alive',\n",
       "   'x-amzn-requestid': '61a6e06c-02fc-485e-9da1-65cd57d4e330',\n",
       "   'x-amzn-remapped-content-length': '0',\n",
       "   'x-amz-executed-version': '$LATEST',\n",
       "   'x-amzn-trace-id': 'root=1-61710e87-32b40aca5e6a7a2c6109ed85;sampled=0'},\n",
       "  'RetryAttempts': 0},\n",
       " 'StatusCode': 200,\n",
       " 'ExecutedVersion': '$LATEST',\n",
       " 'Payload': <botocore.response.StreamingBody at 0x7fa922907da0>}"
      ]
     },
     "execution_count": 98,
     "metadata": {},
     "output_type": "execute_result"
    }
   ],
   "source": [
    "response"
   ]
  },
  {
   "cell_type": "code",
   "execution_count": 105,
   "id": "7226dde4",
   "metadata": {},
   "outputs": [],
   "source": [
    "res_json = json.loads(response['Payload'].read().decode(\"utf-8\"))"
   ]
  },
  {
   "cell_type": "code",
   "execution_count": 100,
   "id": "eccd3d3f",
   "metadata": {},
   "outputs": [
    {
     "data": {
      "text/plain": [
       "{'statusCode': 200,\n",
       " 'predictions': '[{\"42\": 26411.181946235152}, {\"77\": 25263.160643007883}]'}"
      ]
     },
     "execution_count": 100,
     "metadata": {},
     "output_type": "execute_result"
    }
   ],
   "source": [
    "res_json"
   ]
  }
 ],
 "metadata": {
  "kernelspec": {
   "display_name": "Python 3",
   "language": "python",
   "name": "python3"
  },
  "language_info": {
   "codemirror_mode": {
    "name": "ipython",
    "version": 3
   },
   "file_extension": ".py",
   "mimetype": "text/x-python",
   "name": "python",
   "nbconvert_exporter": "python",
   "pygments_lexer": "ipython3",
   "version": "3.7.1"
  }
 },
 "nbformat": 4,
 "nbformat_minor": 5
}
